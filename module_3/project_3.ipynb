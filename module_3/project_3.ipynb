{
 "cells": [
  {
   "cell_type": "markdown",
   "metadata": {},
   "source": [
    "# Загрузка библиотек и датасетов"
   ]
  },
  {
   "cell_type": "code",
   "execution_count": 252,
   "metadata": {},
   "outputs": [],
   "source": [
    "import numpy as np # linear algebra\n",
    "import pandas as pd # data processing, CSV file I/O (e.g. pd.read_csv)\n",
    "\n",
    "import re \n",
    "\n",
    "import matplotlib.pyplot as plt\n",
    "import seaborn as sns \n",
    "%matplotlib inline\n",
    "\n",
    "# Загружаем специальный удобный инструмент для разделения датасета:\n",
    "from sklearn.model_selection import train_test_split"
   ]
  },
  {
   "cell_type": "code",
   "execution_count": 253,
   "metadata": {},
   "outputs": [],
   "source": [
    "RANDOM_SEED = 42 #для воспроизводимости результата \n",
    "\n",
    "data_train = pd.read_csv('main_task.xls')\n",
    "data_test = pd.read_csv('kaggle_task.csv')\n",
    "cities = pd.read_csv('worldcities.csv') #Датасет с данными о городах мира\n",
    "\n",
    "data_train['sample'] = 1 # помечаем где у нас трейн\n",
    "data_test['sample'] = 0 # помечаем где у нас тест\n",
    "data_test['Rating'] = 0 # в тесте у нас нет значения Rating, мы его должны предсказать, по этому пока просто заполняем нулями\n",
    "\n",
    "data = data_test.append(data_train, sort=False).reset_index(drop=True) # объединяем\n",
    "\n",
    "countries = ['Russia', 'France', 'United Kingdom','Spain','Germany','Ukraine','Italy','Belarus', 'Romania', 'Austria', 'Poland', \n",
    "'Hungary','Netherlands', 'Serbia','Bulgaria', 'Czechia','Ireland','Denmark','Sweden','Croatia','Latvia', 'Norway', 'Moldova',\n",
    "'Greece','Finland', 'Macedonia','Lithuania','Portugal', 'Estonia','Slovakia', 'Albania','Cyprus','Slovenia', 'Bosnia And Herzegovina',\n",
    "'Kosovo','Belgium','Montenegro','Switzerland', 'Iceland','Luxembourg', 'Monaco','Liechtenstein','Malta','San Marino']\n",
    "#Список стран Европы"
   ]
  },
  {
   "cell_type": "code",
   "execution_count": 254,
   "metadata": {},
   "outputs": [],
   "source": [
    "cities = cities[cities.country.isin(countries)] \n",
    "cities = cities[['city', 'capital', 'population']]\n",
    "cities.columns = ['City', 'Capital', 'Population'] \n",
    "\n",
    "data = data.merge(cities, on = 'City', how = 'left') #Добавляем в основной датасет "
   ]
  },
  {
   "cell_type": "code",
   "execution_count": 255,
   "metadata": {
    "scrolled": true
   },
   "outputs": [
    {
     "data": {
      "text/html": [
       "<div>\n",
       "<style scoped>\n",
       "    .dataframe tbody tr th:only-of-type {\n",
       "        vertical-align: middle;\n",
       "    }\n",
       "\n",
       "    .dataframe tbody tr th {\n",
       "        vertical-align: top;\n",
       "    }\n",
       "\n",
       "    .dataframe thead th {\n",
       "        text-align: right;\n",
       "    }\n",
       "</style>\n",
       "<table border=\"1\" class=\"dataframe\">\n",
       "  <thead>\n",
       "    <tr style=\"text-align: right;\">\n",
       "      <th></th>\n",
       "      <th>Restaurant_id</th>\n",
       "      <th>City</th>\n",
       "      <th>Cuisine Style</th>\n",
       "      <th>Ranking</th>\n",
       "      <th>Price Range</th>\n",
       "      <th>Number of Reviews</th>\n",
       "      <th>Reviews</th>\n",
       "      <th>URL_TA</th>\n",
       "      <th>ID_TA</th>\n",
       "      <th>sample</th>\n",
       "      <th>Rating</th>\n",
       "      <th>Capital</th>\n",
       "      <th>Population</th>\n",
       "    </tr>\n",
       "  </thead>\n",
       "  <tbody>\n",
       "    <tr>\n",
       "      <th>0</th>\n",
       "      <td>id_0</td>\n",
       "      <td>Paris</td>\n",
       "      <td>['Bar', 'Pub']</td>\n",
       "      <td>12963.0</td>\n",
       "      <td>$$ - $$$</td>\n",
       "      <td>4.0</td>\n",
       "      <td>[[], []]</td>\n",
       "      <td>/Restaurant_Review-g187147-d10746918-Reviews-L...</td>\n",
       "      <td>d10746918</td>\n",
       "      <td>0</td>\n",
       "      <td>0.0</td>\n",
       "      <td>primary</td>\n",
       "      <td>11020000.0</td>\n",
       "    </tr>\n",
       "    <tr>\n",
       "      <th>1</th>\n",
       "      <td>id_1</td>\n",
       "      <td>Helsinki</td>\n",
       "      <td>['European', 'Scandinavian', 'Gluten Free Opti...</td>\n",
       "      <td>106.0</td>\n",
       "      <td>$$ - $$$</td>\n",
       "      <td>97.0</td>\n",
       "      <td>[['Very good reviews!', 'Fine dining in Hakani...</td>\n",
       "      <td>/Restaurant_Review-g189934-d6674944-Reviews-Ra...</td>\n",
       "      <td>d6674944</td>\n",
       "      <td>0</td>\n",
       "      <td>0.0</td>\n",
       "      <td>primary</td>\n",
       "      <td>642045.0</td>\n",
       "    </tr>\n",
       "    <tr>\n",
       "      <th>2</th>\n",
       "      <td>id_2</td>\n",
       "      <td>Edinburgh</td>\n",
       "      <td>['Vegetarian Friendly']</td>\n",
       "      <td>810.0</td>\n",
       "      <td>$$ - $$$</td>\n",
       "      <td>28.0</td>\n",
       "      <td>[['Better than the Links', 'Ivy Black'], ['12/...</td>\n",
       "      <td>/Restaurant_Review-g186525-d13129638-Reviews-B...</td>\n",
       "      <td>d13129638</td>\n",
       "      <td>0</td>\n",
       "      <td>0.0</td>\n",
       "      <td>NaN</td>\n",
       "      <td>488050.0</td>\n",
       "    </tr>\n",
       "    <tr>\n",
       "      <th>3</th>\n",
       "      <td>id_3</td>\n",
       "      <td>London</td>\n",
       "      <td>['Italian', 'Mediterranean', 'European', 'Vege...</td>\n",
       "      <td>1669.0</td>\n",
       "      <td>$$$$</td>\n",
       "      <td>202.0</td>\n",
       "      <td>[['Most exquisite', 'Delicious and authentic']...</td>\n",
       "      <td>/Restaurant_Review-g186338-d680417-Reviews-Qui...</td>\n",
       "      <td>d680417</td>\n",
       "      <td>0</td>\n",
       "      <td>0.0</td>\n",
       "      <td>primary</td>\n",
       "      <td>10979000.0</td>\n",
       "    </tr>\n",
       "    <tr>\n",
       "      <th>4</th>\n",
       "      <td>id_4</td>\n",
       "      <td>Bratislava</td>\n",
       "      <td>['Italian', 'Mediterranean', 'European', 'Seaf...</td>\n",
       "      <td>37.0</td>\n",
       "      <td>$$$$</td>\n",
       "      <td>162.0</td>\n",
       "      <td>[['Always the best in bratislava', 'Very good ...</td>\n",
       "      <td>/Restaurant_Review-g274924-d1112354-Reviews-Ma...</td>\n",
       "      <td>d1112354</td>\n",
       "      <td>0</td>\n",
       "      <td>0.0</td>\n",
       "      <td>primary</td>\n",
       "      <td>429564.0</td>\n",
       "    </tr>\n",
       "  </tbody>\n",
       "</table>\n",
       "</div>"
      ],
      "text/plain": [
       "  Restaurant_id        City  \\\n",
       "0          id_0       Paris   \n",
       "1          id_1    Helsinki   \n",
       "2          id_2   Edinburgh   \n",
       "3          id_3      London   \n",
       "4          id_4  Bratislava   \n",
       "\n",
       "                                       Cuisine Style  Ranking Price Range  \\\n",
       "0                                     ['Bar', 'Pub']  12963.0    $$ - $$$   \n",
       "1  ['European', 'Scandinavian', 'Gluten Free Opti...    106.0    $$ - $$$   \n",
       "2                            ['Vegetarian Friendly']    810.0    $$ - $$$   \n",
       "3  ['Italian', 'Mediterranean', 'European', 'Vege...   1669.0        $$$$   \n",
       "4  ['Italian', 'Mediterranean', 'European', 'Seaf...     37.0        $$$$   \n",
       "\n",
       "   Number of Reviews                                            Reviews  \\\n",
       "0                4.0                                           [[], []]   \n",
       "1               97.0  [['Very good reviews!', 'Fine dining in Hakani...   \n",
       "2               28.0  [['Better than the Links', 'Ivy Black'], ['12/...   \n",
       "3              202.0  [['Most exquisite', 'Delicious and authentic']...   \n",
       "4              162.0  [['Always the best in bratislava', 'Very good ...   \n",
       "\n",
       "                                              URL_TA      ID_TA  sample  \\\n",
       "0  /Restaurant_Review-g187147-d10746918-Reviews-L...  d10746918       0   \n",
       "1  /Restaurant_Review-g189934-d6674944-Reviews-Ra...   d6674944       0   \n",
       "2  /Restaurant_Review-g186525-d13129638-Reviews-B...  d13129638       0   \n",
       "3  /Restaurant_Review-g186338-d680417-Reviews-Qui...    d680417       0   \n",
       "4  /Restaurant_Review-g274924-d1112354-Reviews-Ma...   d1112354       0   \n",
       "\n",
       "   Rating  Capital  Population  \n",
       "0     0.0  primary  11020000.0  \n",
       "1     0.0  primary    642045.0  \n",
       "2     0.0      NaN    488050.0  \n",
       "3     0.0  primary  10979000.0  \n",
       "4     0.0  primary    429564.0  "
      ]
     },
     "execution_count": 255,
     "metadata": {},
     "output_type": "execute_result"
    }
   ],
   "source": [
    "data.head(5)"
   ]
  },
  {
   "cell_type": "code",
   "execution_count": 256,
   "metadata": {
    "scrolled": false
   },
   "outputs": [
    {
     "name": "stdout",
     "output_type": "stream",
     "text": [
      "<class 'pandas.core.frame.DataFrame'>\n",
      "Int64Index: 50000 entries, 0 to 49999\n",
      "Data columns (total 13 columns):\n",
      " #   Column             Non-Null Count  Dtype  \n",
      "---  ------             --------------  -----  \n",
      " 0   Restaurant_id      50000 non-null  object \n",
      " 1   City               50000 non-null  object \n",
      " 2   Cuisine Style      38410 non-null  object \n",
      " 3   Ranking            50000 non-null  float64\n",
      " 4   Price Range        32639 non-null  object \n",
      " 5   Number of Reviews  46800 non-null  float64\n",
      " 6   Reviews            49998 non-null  object \n",
      " 7   URL_TA             50000 non-null  object \n",
      " 8   ID_TA              50000 non-null  object \n",
      " 9   sample             50000 non-null  int64  \n",
      " 10  Rating             50000 non-null  float64\n",
      " 11  Capital            47374 non-null  object \n",
      " 12  Population         48119 non-null  float64\n",
      "dtypes: float64(4), int64(1), object(8)\n",
      "memory usage: 5.3+ MB\n"
     ]
    }
   ],
   "source": [
    "data.info()"
   ]
  },
  {
   "cell_type": "markdown",
   "metadata": {},
   "source": [
    "# Объявление функций"
   ]
  },
  {
   "cell_type": "code",
   "execution_count": 257,
   "metadata": {},
   "outputs": [],
   "source": [
    "def date1(list): #Для извлечения дат из Review\n",
    "    if len(list)==0:\n",
    "        return np.nan\n",
    "    else:\n",
    "        return list[0]\n",
    "    \n",
    "def date2(list): #Для извлечения дат из Review\n",
    "    if len(list)<=1:\n",
    "        return np.nan\n",
    "    else:\n",
    "        return list[1]\n",
    "    \n",
    "def clean_name(str_val): #Обработка показателя по кухням Cuisine Style\n",
    "    if pd.isna(str_val): \n",
    "        return [\"Unknown\"]\n",
    "    str_val = str_val.strip('[]') \n",
    "    str_val = str_val.replace(\"\\'\",'') \n",
    "    str_val = str_val.split(\", \") \n",
    "    return str_val\n",
    "\n",
    "def get_price(str): #Для быстрого перевода показателя Price в числовой вид. \n",
    "    if str == '$$ - $$$':\n",
    "        return 2\n",
    "    if str == '$':\n",
    "        return 1\n",
    "    if str == '$$$$':\n",
    "        return 3\n",
    "    else:\n",
    "        return 2"
   ]
  },
  {
   "cell_type": "markdown",
   "metadata": {},
   "source": [
    "# Обработка данных, заполнение пропусков"
   ]
  },
  {
   "cell_type": "markdown",
   "metadata": {},
   "source": [
    "## Number of Reviews"
   ]
  },
  {
   "cell_type": "code",
   "execution_count": 258,
   "metadata": {
    "scrolled": true
   },
   "outputs": [
    {
     "data": {
      "text/html": [
       "<div>\n",
       "<style scoped>\n",
       "    .dataframe tbody tr th:only-of-type {\n",
       "        vertical-align: middle;\n",
       "    }\n",
       "\n",
       "    .dataframe tbody tr th {\n",
       "        vertical-align: top;\n",
       "    }\n",
       "\n",
       "    .dataframe thead th {\n",
       "        text-align: right;\n",
       "    }\n",
       "</style>\n",
       "<table border=\"1\" class=\"dataframe\">\n",
       "  <thead>\n",
       "    <tr style=\"text-align: right;\">\n",
       "      <th></th>\n",
       "      <th>Restaurant_id</th>\n",
       "      <th>City</th>\n",
       "      <th>Cuisine Style</th>\n",
       "      <th>Ranking</th>\n",
       "      <th>Price Range</th>\n",
       "      <th>Number of Reviews</th>\n",
       "      <th>Reviews</th>\n",
       "      <th>URL_TA</th>\n",
       "      <th>ID_TA</th>\n",
       "      <th>sample</th>\n",
       "      <th>Rating</th>\n",
       "      <th>Capital</th>\n",
       "      <th>Population</th>\n",
       "    </tr>\n",
       "  </thead>\n",
       "  <tbody>\n",
       "    <tr>\n",
       "      <th>7</th>\n",
       "      <td>id_7</td>\n",
       "      <td>Budapest</td>\n",
       "      <td>NaN</td>\n",
       "      <td>2330.0</td>\n",
       "      <td>NaN</td>\n",
       "      <td>NaN</td>\n",
       "      <td>[[], []]</td>\n",
       "      <td>/Restaurant_Review-g274887-d8286886-Reviews-Be...</td>\n",
       "      <td>d8286886</td>\n",
       "      <td>0</td>\n",
       "      <td>0.0</td>\n",
       "      <td>primary</td>\n",
       "      <td>1752286.0</td>\n",
       "    </tr>\n",
       "    <tr>\n",
       "      <th>25</th>\n",
       "      <td>id_25</td>\n",
       "      <td>Madrid</td>\n",
       "      <td>NaN</td>\n",
       "      <td>5828.0</td>\n",
       "      <td>NaN</td>\n",
       "      <td>NaN</td>\n",
       "      <td>[[], []]</td>\n",
       "      <td>/Restaurant_Review-g187514-d13202032-Reviews-W...</td>\n",
       "      <td>d13202032</td>\n",
       "      <td>0</td>\n",
       "      <td>0.0</td>\n",
       "      <td>primary</td>\n",
       "      <td>3266126.0</td>\n",
       "    </tr>\n",
       "    <tr>\n",
       "      <th>53</th>\n",
       "      <td>id_53</td>\n",
       "      <td>Prague</td>\n",
       "      <td>NaN</td>\n",
       "      <td>2095.0</td>\n",
       "      <td>NaN</td>\n",
       "      <td>NaN</td>\n",
       "      <td>[[], []]</td>\n",
       "      <td>/Restaurant_Review-g274707-d7124128-Reviews-Ch...</td>\n",
       "      <td>d7124128</td>\n",
       "      <td>0</td>\n",
       "      <td>0.0</td>\n",
       "      <td>primary</td>\n",
       "      <td>1324277.0</td>\n",
       "    </tr>\n",
       "    <tr>\n",
       "      <th>74</th>\n",
       "      <td>id_74</td>\n",
       "      <td>Prague</td>\n",
       "      <td>['Cafe', 'European', 'Czech']</td>\n",
       "      <td>2052.0</td>\n",
       "      <td>$</td>\n",
       "      <td>NaN</td>\n",
       "      <td>[[\"Nova' Doba\"], ['01/26/2017']]</td>\n",
       "      <td>/Restaurant_Review-g274707-d12032989-Reviews-C...</td>\n",
       "      <td>d12032989</td>\n",
       "      <td>0</td>\n",
       "      <td>0.0</td>\n",
       "      <td>primary</td>\n",
       "      <td>1324277.0</td>\n",
       "    </tr>\n",
       "    <tr>\n",
       "      <th>81</th>\n",
       "      <td>id_81</td>\n",
       "      <td>Barcelona</td>\n",
       "      <td>['Peruvian', 'South American']</td>\n",
       "      <td>4325.0</td>\n",
       "      <td>$$ - $$$</td>\n",
       "      <td>NaN</td>\n",
       "      <td>[[], []]</td>\n",
       "      <td>/Restaurant_Review-g187497-d10088997-Reviews-N...</td>\n",
       "      <td>d10088997</td>\n",
       "      <td>0</td>\n",
       "      <td>0.0</td>\n",
       "      <td>admin</td>\n",
       "      <td>4588000.0</td>\n",
       "    </tr>\n",
       "    <tr>\n",
       "      <th>...</th>\n",
       "      <td>...</td>\n",
       "      <td>...</td>\n",
       "      <td>...</td>\n",
       "      <td>...</td>\n",
       "      <td>...</td>\n",
       "      <td>...</td>\n",
       "      <td>...</td>\n",
       "      <td>...</td>\n",
       "      <td>...</td>\n",
       "      <td>...</td>\n",
       "      <td>...</td>\n",
       "      <td>...</td>\n",
       "      <td>...</td>\n",
       "    </tr>\n",
       "    <tr>\n",
       "      <th>49965</th>\n",
       "      <td>id_5720</td>\n",
       "      <td>Rome</td>\n",
       "      <td>NaN</td>\n",
       "      <td>5722.0</td>\n",
       "      <td>NaN</td>\n",
       "      <td>NaN</td>\n",
       "      <td>[[], []]</td>\n",
       "      <td>/Restaurant_Review-g187791-d793376-Reviews-Wes...</td>\n",
       "      <td>d793376</td>\n",
       "      <td>1</td>\n",
       "      <td>5.0</td>\n",
       "      <td>primary</td>\n",
       "      <td>2872800.0</td>\n",
       "    </tr>\n",
       "    <tr>\n",
       "      <th>49972</th>\n",
       "      <td>id_2009</td>\n",
       "      <td>Prague</td>\n",
       "      <td>['Cafe', 'Delicatessen', 'Healthy', 'Wine Bar'...</td>\n",
       "      <td>2012.0</td>\n",
       "      <td>$</td>\n",
       "      <td>NaN</td>\n",
       "      <td>[['Personal expirence'], ['10/27/2017']]</td>\n",
       "      <td>/Restaurant_Review-g274707-d12981295-Reviews-M...</td>\n",
       "      <td>d12981295</td>\n",
       "      <td>1</td>\n",
       "      <td>5.0</td>\n",
       "      <td>primary</td>\n",
       "      <td>1324277.0</td>\n",
       "    </tr>\n",
       "    <tr>\n",
       "      <th>49986</th>\n",
       "      <td>id_7274</td>\n",
       "      <td>Madrid</td>\n",
       "      <td>NaN</td>\n",
       "      <td>7279.0</td>\n",
       "      <td>NaN</td>\n",
       "      <td>NaN</td>\n",
       "      <td>[[], []]</td>\n",
       "      <td>/Restaurant_Review-g187514-d12182212-Reviews-C...</td>\n",
       "      <td>d12182212</td>\n",
       "      <td>1</td>\n",
       "      <td>3.0</td>\n",
       "      <td>primary</td>\n",
       "      <td>3266126.0</td>\n",
       "    </tr>\n",
       "    <tr>\n",
       "      <th>49988</th>\n",
       "      <td>id_4968</td>\n",
       "      <td>Berlin</td>\n",
       "      <td>NaN</td>\n",
       "      <td>4970.0</td>\n",
       "      <td>NaN</td>\n",
       "      <td>NaN</td>\n",
       "      <td>[[], []]</td>\n",
       "      <td>/Restaurant_Review-g187323-d7761701-Reviews-Ar...</td>\n",
       "      <td>d7761701</td>\n",
       "      <td>1</td>\n",
       "      <td>4.0</td>\n",
       "      <td>primary</td>\n",
       "      <td>3644826.0</td>\n",
       "    </tr>\n",
       "    <tr>\n",
       "      <th>49989</th>\n",
       "      <td>id_8887</td>\n",
       "      <td>London</td>\n",
       "      <td>['International']</td>\n",
       "      <td>8896.0</td>\n",
       "      <td>NaN</td>\n",
       "      <td>NaN</td>\n",
       "      <td>[['I love this place!'], ['08/24/2015']]</td>\n",
       "      <td>/Restaurant_Review-g186338-d5550626-Reviews-Th...</td>\n",
       "      <td>d5550626</td>\n",
       "      <td>1</td>\n",
       "      <td>5.0</td>\n",
       "      <td>primary</td>\n",
       "      <td>10979000.0</td>\n",
       "    </tr>\n",
       "  </tbody>\n",
       "</table>\n",
       "<p>3200 rows × 13 columns</p>\n",
       "</div>"
      ],
      "text/plain": [
       "      Restaurant_id       City  \\\n",
       "7              id_7   Budapest   \n",
       "25            id_25     Madrid   \n",
       "53            id_53     Prague   \n",
       "74            id_74     Prague   \n",
       "81            id_81  Barcelona   \n",
       "...             ...        ...   \n",
       "49965       id_5720       Rome   \n",
       "49972       id_2009     Prague   \n",
       "49986       id_7274     Madrid   \n",
       "49988       id_4968     Berlin   \n",
       "49989       id_8887     London   \n",
       "\n",
       "                                           Cuisine Style  Ranking Price Range  \\\n",
       "7                                                    NaN   2330.0         NaN   \n",
       "25                                                   NaN   5828.0         NaN   \n",
       "53                                                   NaN   2095.0         NaN   \n",
       "74                         ['Cafe', 'European', 'Czech']   2052.0           $   \n",
       "81                        ['Peruvian', 'South American']   4325.0    $$ - $$$   \n",
       "...                                                  ...      ...         ...   \n",
       "49965                                                NaN   5722.0         NaN   \n",
       "49972  ['Cafe', 'Delicatessen', 'Healthy', 'Wine Bar'...   2012.0           $   \n",
       "49986                                                NaN   7279.0         NaN   \n",
       "49988                                                NaN   4970.0         NaN   \n",
       "49989                                  ['International']   8896.0         NaN   \n",
       "\n",
       "       Number of Reviews                                   Reviews  \\\n",
       "7                    NaN                                  [[], []]   \n",
       "25                   NaN                                  [[], []]   \n",
       "53                   NaN                                  [[], []]   \n",
       "74                   NaN          [[\"Nova' Doba\"], ['01/26/2017']]   \n",
       "81                   NaN                                  [[], []]   \n",
       "...                  ...                                       ...   \n",
       "49965                NaN                                  [[], []]   \n",
       "49972                NaN  [['Personal expirence'], ['10/27/2017']]   \n",
       "49986                NaN                                  [[], []]   \n",
       "49988                NaN                                  [[], []]   \n",
       "49989                NaN  [['I love this place!'], ['08/24/2015']]   \n",
       "\n",
       "                                                  URL_TA      ID_TA  sample  \\\n",
       "7      /Restaurant_Review-g274887-d8286886-Reviews-Be...   d8286886       0   \n",
       "25     /Restaurant_Review-g187514-d13202032-Reviews-W...  d13202032       0   \n",
       "53     /Restaurant_Review-g274707-d7124128-Reviews-Ch...   d7124128       0   \n",
       "74     /Restaurant_Review-g274707-d12032989-Reviews-C...  d12032989       0   \n",
       "81     /Restaurant_Review-g187497-d10088997-Reviews-N...  d10088997       0   \n",
       "...                                                  ...        ...     ...   \n",
       "49965  /Restaurant_Review-g187791-d793376-Reviews-Wes...    d793376       1   \n",
       "49972  /Restaurant_Review-g274707-d12981295-Reviews-M...  d12981295       1   \n",
       "49986  /Restaurant_Review-g187514-d12182212-Reviews-C...  d12182212       1   \n",
       "49988  /Restaurant_Review-g187323-d7761701-Reviews-Ar...   d7761701       1   \n",
       "49989  /Restaurant_Review-g186338-d5550626-Reviews-Th...   d5550626       1   \n",
       "\n",
       "       Rating  Capital  Population  \n",
       "7         0.0  primary   1752286.0  \n",
       "25        0.0  primary   3266126.0  \n",
       "53        0.0  primary   1324277.0  \n",
       "74        0.0  primary   1324277.0  \n",
       "81        0.0    admin   4588000.0  \n",
       "...       ...      ...         ...  \n",
       "49965     5.0  primary   2872800.0  \n",
       "49972     5.0  primary   1324277.0  \n",
       "49986     3.0  primary   3266126.0  \n",
       "49988     4.0  primary   3644826.0  \n",
       "49989     5.0  primary  10979000.0  \n",
       "\n",
       "[3200 rows x 13 columns]"
      ]
     },
     "execution_count": 258,
     "metadata": {},
     "output_type": "execute_result"
    }
   ],
   "source": [
    "#Посмотрим на пропуски \n",
    "data[(pd.isna(data['Number of Reviews'])==True)]\n",
    "#Видим, что даже при отсутствующих данных о количестве, в поле Reviews бывают отзывы. \n",
    "#В таком случае заменим пропуски средним значением, но перед этим отметим отсутствие отзывов отдельным признаком "
   ]
  },
  {
   "cell_type": "code",
   "execution_count": 259,
   "metadata": {},
   "outputs": [],
   "source": [
    "data['Number_of_Reviews_isNAN'] = pd.isna(data['Number of Reviews']).astype('uint8')\n",
    "\n",
    "data['Number of Reviews'].fillna(data['Number of Reviews'].mean(), inplace = True)"
   ]
  },
  {
   "cell_type": "code",
   "execution_count": 260,
   "metadata": {},
   "outputs": [
    {
     "data": {
      "text/plain": [
       "<AxesSubplot:>"
      ]
     },
     "execution_count": 260,
     "metadata": {},
     "output_type": "execute_result"
    },
    {
     "data": {
      "image/png": "[encoded data removed]",
      "text/plain": [
       "<Figure size 432x288 with 1 Axes>"
      ]
     },
     "metadata": {
      "needs_background": "light"
     },
     "output_type": "display_data"
    }
   ],
   "source": [
    "data['Number of Reviews'].hist(bins=100)\n",
    "#Практически все значения лежат в промежутке от 0 до 2000. Подавляющее большинство из них <=~250"
   ]
  },
  {
   "cell_type": "markdown",
   "metadata": {},
   "source": [
    "## City"
   ]
  },
  {
   "cell_type": "code",
   "execution_count": 261,
   "metadata": {},
   "outputs": [
    {
     "data": {
      "image/png": "[encoded data removed]",
      "text/plain": [
       "<Figure size 432x288 with 1 Axes>"
      ]
     },
     "metadata": {
      "needs_background": "light"
     },
     "output_type": "display_data"
    }
   ],
   "source": [
    "for x in (data['City'].value_counts())[0:10].index:\n",
    "    data['Ranking'][data['City'] == x].hist(bins=100)\n",
    "plt.show()\n",
    "#Из-за того, что в больших городах больше ресторанов, имеем смещение"
   ]
  },
  {
   "cell_type": "code",
   "execution_count": 262,
   "metadata": {},
   "outputs": [],
   "source": [
    "#Этот нечисловой показатель очень удобно будет преоразовать в dummy-переменные, но прежде создадим новый показатель -\n",
    "#количество ресторанов в городе (Restaurants in City)\n",
    "rests = pd.DataFrame(data.groupby('City').count()['Restaurant_id'])\n",
    "rests.columns = ['Restaurants in City']\n",
    "data = data.merge(rests, on = 'City', how = 'left')\n",
    "\n",
    "#Переводим в dummy \n",
    "data = pd.get_dummies(data, columns=[ 'City',], dummy_na=True)"
   ]
  },
  {
   "cell_type": "markdown",
   "metadata": {},
   "source": [
    "##  Cuisine Style"
   ]
  },
  {
   "cell_type": "code",
   "execution_count": 263,
   "metadata": {},
   "outputs": [],
   "source": [
    "#Избавимся от пропусков добалением неизвестного параметра и создадаим новый признак - количество кухонь в ресторане (Cuisine Style Count)\n",
    "\n",
    "data['Cuisine Style'] = data['Cuisine Style'].apply(clean_name)\n",
    "\n",
    "data['Cuisine Style Count']=data['Cuisine Style'].apply(lambda x: len(x))"
   ]
  },
  {
   "cell_type": "code",
   "execution_count": 264,
   "metadata": {},
   "outputs": [
    {
     "data": {
      "text/plain": [
       "<AxesSubplot:>"
      ]
     },
     "execution_count": 264,
     "metadata": {},
     "output_type": "execute_result"
    },
    {
     "data": {
      "image/png": "[encoded data removed]",
      "text/plain": [
       "<Figure size 432x288 with 1 Axes>"
      ]
     },
     "metadata": {
      "needs_background": "light"
     },
     "output_type": "display_data"
    }
   ],
   "source": [
    "data['Cuisine Style Count'].hist(bins=10)\n",
    "#В большинстве ресторанов не более 5 кухонь"
   ]
  },
  {
   "cell_type": "markdown",
   "metadata": {},
   "source": [
    "## Price range"
   ]
  },
  {
   "cell_type": "code",
   "execution_count": 265,
   "metadata": {},
   "outputs": [
    {
     "data": {
      "text/plain": [
       "0    $$ - $$$\n",
       "dtype: object"
      ]
     },
     "execution_count": 265,
     "metadata": {},
     "output_type": "execute_result"
    }
   ],
   "source": [
    "#Преобразуем показатель в числовой и заполним пропуски наиболее часто встречающимся вариантом \n",
    "data['Price Range'].mode()"
   ]
  },
  {
   "cell_type": "code",
   "execution_count": 269,
   "metadata": {},
   "outputs": [],
   "source": [
    "data['Price Range'] = data['Price Range'].fillna('$$ - $$$')\n",
    "\n",
    "    \n",
    "data['Price']=data['Price Range'].apply(get_price)"
   ]
  },
  {
   "cell_type": "code",
   "execution_count": 277,
   "metadata": {},
   "outputs": [
    {
     "data": {
      "text/plain": [
       "<AxesSubplot:>"
      ]
     },
     "execution_count": 277,
     "metadata": {},
     "output_type": "execute_result"
    },
    {
     "data": {
      "image/png": "[encoded data removed]",
      "text/plain": [
       "<Figure size 432x288 with 1 Axes>"
      ]
     },
     "metadata": {
      "needs_background": "light"
     },
     "output_type": "display_data"
    }
   ],
   "source": [
    "data['Price'].value_counts(ascending=True).plot(kind='barh')\n",
    "#График более наглядно показывает, что средний чек в представленных ресторанх чаще всего составляет среднее значение"
   ]
  },
  {
   "cell_type": "markdown",
   "metadata": {},
   "source": [
    "## Reviews"
   ]
  },
  {
   "cell_type": "code",
   "execution_count": 272,
   "metadata": {},
   "outputs": [],
   "source": [
    "#Из этого параметра извлечём даты отзывов, чтобы создать новый признак - разинцу во днях между отзывами (day_space)\n",
    "\n",
    "data['Reviews'] = data['Reviews'].fillna('')\n",
    "pattern = re.compile(\"\\d+\\/\\d+\\/\\d+\")\n",
    "data['Date_of_Reviews'] = data['Reviews'].apply(pattern.findall)\n",
    "\n",
    "    \n",
    "data['Date1']=data['Date_of_Reviews'].apply(date1)\n",
    "data['Date2']=data['Date_of_Reviews'].apply(date2)\n",
    "\n",
    "data['Date2'] = data['Date2'].apply(lambda x: str(x).replace('/', '-'))\n",
    "data['Date1'] = data['Date1'].apply(lambda x: str(x).replace('/', '-'))\n",
    "data['Date2']= pd.to_datetime(data['Date2'], errors='ignore')\n",
    "data['Date1']= pd.to_datetime(data['Date1'], errors='ignore')\n",
    "\n",
    "data['day_space'] = (data['Date1']-data['Date2']).dt.days"
   ]
  },
  {
   "cell_type": "code",
   "execution_count": 275,
   "metadata": {},
   "outputs": [
    {
     "data": {
      "text/plain": [
       "<AxesSubplot:>"
      ]
     },
     "execution_count": 275,
     "metadata": {},
     "output_type": "execute_result"
    },
    {
     "data": {
      "image/png": "[encoded data removed]",
      "text/plain": [
       "<Figure size 432x288 with 1 Axes>"
      ]
     },
     "metadata": {
      "needs_background": "light"
     },
     "output_type": "display_data"
    }
   ],
   "source": [
    "data['day_space'].hist(bins=100)\n",
    "#В большинстве случаев разница по времени между отзывами небольшая, но также много случаев, когда между отзывами прошло несколько месяцев и более"
   ]
  },
  {
   "cell_type": "markdown",
   "metadata": {},
   "source": [
    "## Capital"
   ]
  },
  {
   "cell_type": "code",
   "execution_count": 281,
   "metadata": {},
   "outputs": [],
   "source": [
    "#Это показатель административного значения города. Преобразуем его в числовой показатель.\n",
    "data['Capital'] = data['Capital'].apply(lambda x: 2 if x == 'primary'\n",
    "                                       else 1 if x == 'admin'\n",
    "                                       else 0)"
   ]
  },
  {
   "cell_type": "code",
   "execution_count": 282,
   "metadata": {},
   "outputs": [
    {
     "data": {
      "text/plain": [
       "<AxesSubplot:>"
      ]
     },
     "execution_count": 282,
     "metadata": {},
     "output_type": "execute_result"
    },
    {
     "data": {
      "image/png": "[encoded data removed]",
      "text/plain": [
       "<Figure size 432x288 with 1 Axes>"
      ]
     },
     "metadata": {
      "needs_background": "light"
     },
     "output_type": "display_data"
    }
   ],
   "source": [
    "data['Capital'].value_counts(ascending=True).plot(kind='barh')\n",
    "#Больше половины представленных городв - административные центры или столицы"
   ]
  },
  {
   "cell_type": "markdown",
   "metadata": {},
   "source": [
    "## Матрица корреляций признаков"
   ]
  },
  {
   "cell_type": "code",
   "execution_count": 283,
   "metadata": {},
   "outputs": [
    {
     "data": {
      "text/plain": [
       "<AxesSubplot:>"
      ]
     },
     "execution_count": 283,
     "metadata": {},
     "output_type": "execute_result"
    },
    {
     "data": {
      "image/png": "[encoded data removed]",
      "text/plain": [
       "<Figure size 1080x720 with 2 Axes>"
      ]
     },
     "metadata": {
      "needs_background": "light"
     },
     "output_type": "display_data"
    }
   ],
   "source": [
    "plt.rcParams['figure.figsize'] = (15,10)\n",
    "sns.heatmap(data.drop(['sample'], axis=1).corr(),)"
   ]
  },
  {
   "cell_type": "markdown",
   "metadata": {},
   "source": [
    "# ML"
   ]
  },
  {
   "cell_type": "code",
   "execution_count": 284,
   "metadata": {},
   "outputs": [],
   "source": [
    "object_columns = [s for s in data.columns if data[s].dtypes == 'object']\n",
    "\n",
    "data.drop(object_columns, axis = 1, inplace=True)\n",
    "data.drop(['Date1', 'Date2'], axis = 1, inplace=True)"
   ]
  },
  {
   "cell_type": "code",
   "execution_count": 285,
   "metadata": {},
   "outputs": [
    {
     "data": {
      "text/html": [
       "<div>\n",
       "<style scoped>\n",
       "    .dataframe tbody tr th:only-of-type {\n",
       "        vertical-align: middle;\n",
       "    }\n",
       "\n",
       "    .dataframe tbody tr th {\n",
       "        vertical-align: top;\n",
       "    }\n",
       "\n",
       "    .dataframe thead th {\n",
       "        text-align: right;\n",
       "    }\n",
       "</style>\n",
       "<table border=\"1\" class=\"dataframe\">\n",
       "  <thead>\n",
       "    <tr style=\"text-align: right;\">\n",
       "      <th></th>\n",
       "      <th>Ranking</th>\n",
       "      <th>Number of Reviews</th>\n",
       "      <th>sample</th>\n",
       "      <th>Rating</th>\n",
       "      <th>Capital</th>\n",
       "      <th>Population</th>\n",
       "      <th>Number_of_Reviews_isNAN</th>\n",
       "      <th>Restaurants in City</th>\n",
       "      <th>City_Amsterdam</th>\n",
       "      <th>City_Athens</th>\n",
       "      <th>...</th>\n",
       "      <th>City_Prague</th>\n",
       "      <th>City_Rome</th>\n",
       "      <th>City_Stockholm</th>\n",
       "      <th>City_Vienna</th>\n",
       "      <th>City_Warsaw</th>\n",
       "      <th>City_Zurich</th>\n",
       "      <th>City_nan</th>\n",
       "      <th>Cuisine Style Count</th>\n",
       "      <th>Price</th>\n",
       "      <th>day_space</th>\n",
       "    </tr>\n",
       "  </thead>\n",
       "  <tbody>\n",
       "    <tr>\n",
       "      <th>28375</th>\n",
       "      <td>7141.0</td>\n",
       "      <td>26.0</td>\n",
       "      <td>1</td>\n",
       "      <td>3.0</td>\n",
       "      <td>1</td>\n",
       "      <td>4588000.0</td>\n",
       "      <td>0</td>\n",
       "      <td>3395</td>\n",
       "      <td>0</td>\n",
       "      <td>0</td>\n",
       "      <td>...</td>\n",
       "      <td>0</td>\n",
       "      <td>0</td>\n",
       "      <td>0</td>\n",
       "      <td>0</td>\n",
       "      <td>0</td>\n",
       "      <td>0</td>\n",
       "      <td>0</td>\n",
       "      <td>1</td>\n",
       "      <td>1</td>\n",
       "      <td>29.0</td>\n",
       "    </tr>\n",
       "    <tr>\n",
       "      <th>41841</th>\n",
       "      <td>13829.0</td>\n",
       "      <td>3.0</td>\n",
       "      <td>1</td>\n",
       "      <td>3.5</td>\n",
       "      <td>2</td>\n",
       "      <td>10979000.0</td>\n",
       "      <td>0</td>\n",
       "      <td>7193</td>\n",
       "      <td>0</td>\n",
       "      <td>0</td>\n",
       "      <td>...</td>\n",
       "      <td>0</td>\n",
       "      <td>0</td>\n",
       "      <td>0</td>\n",
       "      <td>0</td>\n",
       "      <td>0</td>\n",
       "      <td>0</td>\n",
       "      <td>0</td>\n",
       "      <td>3</td>\n",
       "      <td>2</td>\n",
       "      <td>78.0</td>\n",
       "    </tr>\n",
       "    <tr>\n",
       "      <th>1632</th>\n",
       "      <td>192.0</td>\n",
       "      <td>324.0</td>\n",
       "      <td>0</td>\n",
       "      <td>0.0</td>\n",
       "      <td>1</td>\n",
       "      <td>1351562.0</td>\n",
       "      <td>0</td>\n",
       "      <td>2694</td>\n",
       "      <td>0</td>\n",
       "      <td>0</td>\n",
       "      <td>...</td>\n",
       "      <td>0</td>\n",
       "      <td>0</td>\n",
       "      <td>0</td>\n",
       "      <td>0</td>\n",
       "      <td>0</td>\n",
       "      <td>0</td>\n",
       "      <td>0</td>\n",
       "      <td>7</td>\n",
       "      <td>2</td>\n",
       "      <td>161.0</td>\n",
       "    </tr>\n",
       "    <tr>\n",
       "      <th>8344</th>\n",
       "      <td>1138.0</td>\n",
       "      <td>24.0</td>\n",
       "      <td>0</td>\n",
       "      <td>0.0</td>\n",
       "      <td>0</td>\n",
       "      <td>0.0</td>\n",
       "      <td>0</td>\n",
       "      <td>554</td>\n",
       "      <td>0</td>\n",
       "      <td>0</td>\n",
       "      <td>...</td>\n",
       "      <td>0</td>\n",
       "      <td>0</td>\n",
       "      <td>0</td>\n",
       "      <td>0</td>\n",
       "      <td>0</td>\n",
       "      <td>0</td>\n",
       "      <td>0</td>\n",
       "      <td>2</td>\n",
       "      <td>1</td>\n",
       "      <td>260.0</td>\n",
       "    </tr>\n",
       "    <tr>\n",
       "      <th>13824</th>\n",
       "      <td>2482.0</td>\n",
       "      <td>413.0</td>\n",
       "      <td>1</td>\n",
       "      <td>4.0</td>\n",
       "      <td>2</td>\n",
       "      <td>10979000.0</td>\n",
       "      <td>0</td>\n",
       "      <td>7193</td>\n",
       "      <td>0</td>\n",
       "      <td>0</td>\n",
       "      <td>...</td>\n",
       "      <td>0</td>\n",
       "      <td>0</td>\n",
       "      <td>0</td>\n",
       "      <td>0</td>\n",
       "      <td>0</td>\n",
       "      <td>0</td>\n",
       "      <td>0</td>\n",
       "      <td>4</td>\n",
       "      <td>2</td>\n",
       "      <td>17.0</td>\n",
       "    </tr>\n",
       "    <tr>\n",
       "      <th>17327</th>\n",
       "      <td>5511.0</td>\n",
       "      <td>147.0</td>\n",
       "      <td>1</td>\n",
       "      <td>3.5</td>\n",
       "      <td>2</td>\n",
       "      <td>11020000.0</td>\n",
       "      <td>0</td>\n",
       "      <td>6108</td>\n",
       "      <td>0</td>\n",
       "      <td>0</td>\n",
       "      <td>...</td>\n",
       "      <td>0</td>\n",
       "      <td>0</td>\n",
       "      <td>0</td>\n",
       "      <td>0</td>\n",
       "      <td>0</td>\n",
       "      <td>0</td>\n",
       "      <td>0</td>\n",
       "      <td>3</td>\n",
       "      <td>2</td>\n",
       "      <td>179.0</td>\n",
       "    </tr>\n",
       "    <tr>\n",
       "      <th>15021</th>\n",
       "      <td>7935.0</td>\n",
       "      <td>98.0</td>\n",
       "      <td>1</td>\n",
       "      <td>4.0</td>\n",
       "      <td>2</td>\n",
       "      <td>11020000.0</td>\n",
       "      <td>0</td>\n",
       "      <td>6108</td>\n",
       "      <td>0</td>\n",
       "      <td>0</td>\n",
       "      <td>...</td>\n",
       "      <td>0</td>\n",
       "      <td>0</td>\n",
       "      <td>0</td>\n",
       "      <td>0</td>\n",
       "      <td>0</td>\n",
       "      <td>0</td>\n",
       "      <td>0</td>\n",
       "      <td>1</td>\n",
       "      <td>2</td>\n",
       "      <td>14.0</td>\n",
       "    </tr>\n",
       "    <tr>\n",
       "      <th>40381</th>\n",
       "      <td>439.0</td>\n",
       "      <td>10.0</td>\n",
       "      <td>1</td>\n",
       "      <td>4.5</td>\n",
       "      <td>2</td>\n",
       "      <td>122273.0</td>\n",
       "      <td>0</td>\n",
       "      <td>263</td>\n",
       "      <td>0</td>\n",
       "      <td>0</td>\n",
       "      <td>...</td>\n",
       "      <td>0</td>\n",
       "      <td>0</td>\n",
       "      <td>0</td>\n",
       "      <td>0</td>\n",
       "      <td>0</td>\n",
       "      <td>0</td>\n",
       "      <td>0</td>\n",
       "      <td>1</td>\n",
       "      <td>2</td>\n",
       "      <td>0.0</td>\n",
       "    </tr>\n",
       "    <tr>\n",
       "      <th>37512</th>\n",
       "      <td>7575.0</td>\n",
       "      <td>91.0</td>\n",
       "      <td>1</td>\n",
       "      <td>4.0</td>\n",
       "      <td>2</td>\n",
       "      <td>10979000.0</td>\n",
       "      <td>0</td>\n",
       "      <td>7193</td>\n",
       "      <td>0</td>\n",
       "      <td>0</td>\n",
       "      <td>...</td>\n",
       "      <td>0</td>\n",
       "      <td>0</td>\n",
       "      <td>0</td>\n",
       "      <td>0</td>\n",
       "      <td>0</td>\n",
       "      <td>0</td>\n",
       "      <td>0</td>\n",
       "      <td>4</td>\n",
       "      <td>2</td>\n",
       "      <td>109.0</td>\n",
       "    </tr>\n",
       "    <tr>\n",
       "      <th>6991</th>\n",
       "      <td>41.0</td>\n",
       "      <td>773.0</td>\n",
       "      <td>0</td>\n",
       "      <td>0.0</td>\n",
       "      <td>2</td>\n",
       "      <td>1752286.0</td>\n",
       "      <td>0</td>\n",
       "      <td>1021</td>\n",
       "      <td>0</td>\n",
       "      <td>0</td>\n",
       "      <td>...</td>\n",
       "      <td>0</td>\n",
       "      <td>0</td>\n",
       "      <td>0</td>\n",
       "      <td>0</td>\n",
       "      <td>0</td>\n",
       "      <td>0</td>\n",
       "      <td>0</td>\n",
       "      <td>5</td>\n",
       "      <td>2</td>\n",
       "      <td>1.0</td>\n",
       "    </tr>\n",
       "  </tbody>\n",
       "</table>\n",
       "<p>10 rows × 43 columns</p>\n",
       "</div>"
      ],
      "text/plain": [
       "       Ranking  Number of Reviews  sample  Rating  Capital  Population  \\\n",
       "28375   7141.0               26.0       1     3.0        1   4588000.0   \n",
       "41841  13829.0                3.0       1     3.5        2  10979000.0   \n",
       "1632     192.0              324.0       0     0.0        1   1351562.0   \n",
       "8344    1138.0               24.0       0     0.0        0         0.0   \n",
       "13824   2482.0              413.0       1     4.0        2  10979000.0   \n",
       "17327   5511.0              147.0       1     3.5        2  11020000.0   \n",
       "15021   7935.0               98.0       1     4.0        2  11020000.0   \n",
       "40381    439.0               10.0       1     4.5        2    122273.0   \n",
       "37512   7575.0               91.0       1     4.0        2  10979000.0   \n",
       "6991      41.0              773.0       0     0.0        2   1752286.0   \n",
       "\n",
       "       Number_of_Reviews_isNAN  Restaurants in City  City_Amsterdam  \\\n",
       "28375                        0                 3395               0   \n",
       "41841                        0                 7193               0   \n",
       "1632                         0                 2694               0   \n",
       "8344                         0                  554               0   \n",
       "13824                        0                 7193               0   \n",
       "17327                        0                 6108               0   \n",
       "15021                        0                 6108               0   \n",
       "40381                        0                  263               0   \n",
       "37512                        0                 7193               0   \n",
       "6991                         0                 1021               0   \n",
       "\n",
       "       City_Athens  ...  City_Prague  City_Rome  City_Stockholm  City_Vienna  \\\n",
       "28375            0  ...            0          0               0            0   \n",
       "41841            0  ...            0          0               0            0   \n",
       "1632             0  ...            0          0               0            0   \n",
       "8344             0  ...            0          0               0            0   \n",
       "13824            0  ...            0          0               0            0   \n",
       "17327            0  ...            0          0               0            0   \n",
       "15021            0  ...            0          0               0            0   \n",
       "40381            0  ...            0          0               0            0   \n",
       "37512            0  ...            0          0               0            0   \n",
       "6991             0  ...            0          0               0            0   \n",
       "\n",
       "       City_Warsaw  City_Zurich  City_nan  Cuisine Style Count  Price  \\\n",
       "28375            0            0         0                    1      1   \n",
       "41841            0            0         0                    3      2   \n",
       "1632             0            0         0                    7      2   \n",
       "8344             0            0         0                    2      1   \n",
       "13824            0            0         0                    4      2   \n",
       "17327            0            0         0                    3      2   \n",
       "15021            0            0         0                    1      2   \n",
       "40381            0            0         0                    1      2   \n",
       "37512            0            0         0                    4      2   \n",
       "6991             0            0         0                    5      2   \n",
       "\n",
       "       day_space  \n",
       "28375       29.0  \n",
       "41841       78.0  \n",
       "1632       161.0  \n",
       "8344       260.0  \n",
       "13824       17.0  \n",
       "17327      179.0  \n",
       "15021       14.0  \n",
       "40381        0.0  \n",
       "37512      109.0  \n",
       "6991         1.0  \n",
       "\n",
       "[10 rows x 43 columns]"
      ]
     },
     "execution_count": 285,
     "metadata": {},
     "output_type": "execute_result"
    }
   ],
   "source": [
    "df_preproc = data\n",
    "df_preproc = df_preproc.fillna(0)\n",
    "df_preproc.sample(10)"
   ]
  },
  {
   "cell_type": "code",
   "execution_count": 286,
   "metadata": {},
   "outputs": [],
   "source": [
    "train_data = df_preproc.query('sample == 1').drop(['sample'], axis=1)\n",
    "test_data = df_preproc.query('sample == 0').drop(['sample'], axis=1)\n",
    "\n",
    "y = train_data.Rating.values            # наш таргет\n",
    "X = train_data.drop(['Rating'], axis=1)"
   ]
  },
  {
   "cell_type": "code",
   "execution_count": 287,
   "metadata": {},
   "outputs": [],
   "source": [
    "X_train, X_test, y_train, y_test = train_test_split(X, y, test_size=0.2, random_state=RANDOM_SEED)"
   ]
  },
  {
   "cell_type": "code",
   "execution_count": 288,
   "metadata": {},
   "outputs": [
    {
     "data": {
      "text/plain": [
       "((10000, 42), (40000, 42), (40000, 41), (32000, 41), (8000, 41))"
      ]
     },
     "execution_count": 288,
     "metadata": {},
     "output_type": "execute_result"
    }
   ],
   "source": [
    "test_data.shape, train_data.shape, X.shape, X_train.shape, X_test.shape"
   ]
  },
  {
   "cell_type": "code",
   "execution_count": 289,
   "metadata": {},
   "outputs": [],
   "source": [
    "# Импортируем необходимые библиотеки:\n",
    "from sklearn.ensemble import RandomForestRegressor # инструмент для создания и обучения модели\n",
    "from sklearn import metrics # инструменты для оценки точности модели"
   ]
  },
  {
   "cell_type": "code",
   "execution_count": 290,
   "metadata": {},
   "outputs": [],
   "source": [
    "# Создаём модель\n",
    "model = RandomForestRegressor(n_estimators=100, verbose=1, n_jobs=-1, random_state=RANDOM_SEED)"
   ]
  },
  {
   "cell_type": "code",
   "execution_count": 291,
   "metadata": {},
   "outputs": [
    {
     "name": "stderr",
     "output_type": "stream",
     "text": [
      "[Parallel(n_jobs=-1)]: Using backend ThreadingBackend with 12 concurrent workers.\n",
      "[Parallel(n_jobs=-1)]: Done  26 tasks      | elapsed:    0.4s\n",
      "[Parallel(n_jobs=-1)]: Done 100 out of 100 | elapsed:    1.4s finished\n",
      "[Parallel(n_jobs=12)]: Using backend ThreadingBackend with 12 concurrent workers.\n",
      "[Parallel(n_jobs=12)]: Done  26 tasks      | elapsed:    0.0s\n",
      "[Parallel(n_jobs=12)]: Done 100 out of 100 | elapsed:    0.0s finished\n"
     ]
    }
   ],
   "source": [
    "# Обучаем модель на тестовом наборе данных\n",
    "model.fit(X_train, y_train)\n",
    "\n",
    "# Используем обученную модель для предсказания рейтинга ресторанов в тестовой выборке.\n",
    "# Предсказанные значения записываем в переменную y_pred\n",
    "y_pred = model.predict(X_test)"
   ]
  },
  {
   "cell_type": "code",
   "execution_count": 292,
   "metadata": {},
   "outputs": [
    {
     "name": "stdout",
     "output_type": "stream",
     "text": [
      "MAE: 0.20758937500000002\n"
     ]
    }
   ],
   "source": [
    "# Сравниваем предсказанные значения (y_pred) с реальными (y_test), и смотрим насколько они в среднем отличаются\n",
    "# Метрика называется Mean Absolute Error (MAE) и показывает среднее отклонение предсказанных значений от фактических.\n",
    "print('MAE:', metrics.mean_absolute_error(y_test, y_pred))"
   ]
  },
  {
   "cell_type": "code",
   "execution_count": 293,
   "metadata": {
    "scrolled": false
   },
   "outputs": [
    {
     "data": {
      "text/plain": [
       "<AxesSubplot:>"
      ]
     },
     "execution_count": 293,
     "metadata": {},
     "output_type": "execute_result"
    },
    {
     "data": {
      "image/png": "[encoded data removed]",
      "text/plain": [
       "<Figure size 720x720 with 1 Axes>"
      ]
     },
     "metadata": {
      "needs_background": "light"
     },
     "output_type": "display_data"
    }
   ],
   "source": [
    "# в RandomForestRegressor есть возможность вывести самые важные признаки для модели\n",
    "plt.rcParams['figure.figsize'] = (10,10)\n",
    "feat_importances = pd.Series(model.feature_importances_, index=X.columns)\n",
    "feat_importances.nlargest(15).plot(kind='barh')"
   ]
  }
 ],
 "metadata": {
  "kernelspec": {
   "display_name": "Python 3",
   "language": "python",
   "name": "python3"
  },
  "language_info": {
   "codemirror_mode": {
    "name": "ipython",
    "version": 3
   },
   "file_extension": ".py",
   "mimetype": "text/x-python",
   "name": "python",
   "nbconvert_exporter": "python",
   "pygments_lexer": "ipython3",
   "version": "3.8.5"
  }
 },
 "nbformat": 4,
 "nbformat_minor": 4
}
